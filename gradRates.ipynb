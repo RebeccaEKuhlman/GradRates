{
 "cells": [
  {
   "cell_type": "code",
   "execution_count": 2,
   "metadata": {
    "collapsed": true
   },
   "outputs": [],
   "source": [
    "import pandas as pd\n",
    "import numpy as np\n",
    "import warnings\n",
    "warnings.filterwarnings(\"ignore\")\n",
    "\n",
    "dfCensus = pd.read_csv('Max_Tract_Overlap_Census.csv')"
   ]
  },
  {
   "cell_type": "code",
   "execution_count": 4,
   "outputs": [
    {
     "data": {
      "text/plain": "        Percentage        State       County     Tract Code   District ID  \\\ncount  9001.000000  9001.000000  9001.000000    9001.000000   9001.000000   \nmean     81.056810    30.640373    93.609155  468938.654261  14366.964337   \nstd      27.353850    11.430315    86.320207  427478.946665  14816.159123   \nmin       0.013891     1.000000     1.000000     100.000000      1.000000   \n25%      62.396330    21.000000    29.000000   21000.000000   4170.000000   \n50%     100.000000    30.000000    77.000000  411800.000000  10080.000000   \n75%     100.000000    39.000000   129.000000  950702.000000  21490.000000   \nmax     100.000000    48.000000   510.000000  990200.000000  99998.000000   \n\n              Leaid         GIDTR       State2      County2          Tract  \\\ncount  9.001000e+03  9.001000e+03  9001.000000  9001.000000    9001.000000   \nmean   3.078404e+06  3.073445e+10    30.640373    93.609155  468938.654261   \nstd    1.146085e+06  1.144893e+10    11.430315    86.320207  427478.946665   \nmin    1.000010e+05  1.001020e+09     1.000000     1.000000     100.000000   \n25%    2.104410e+06  2.116397e+10    21.000000    29.000000   21000.000000   \n50%    3.028620e+06  3.011100e+10    30.000000    77.000000  411800.000000   \n75%    3.905069e+06  3.916102e+10    39.000000   129.000000  950702.000000   \nmax    4.840710e+06  4.850795e+10    48.000000   510.000000  990200.000000   \n\n       ...  pct_TEA_MailOutMailBack_CEN_2010  pct_TEA_Update_Leave_CEN_2010  \\\ncount  ...                       8796.000000                    8796.000000   \nmean   ...                         69.283738                      30.716263   \nstd    ...                         41.564236                      41.564237   \nmin    ...                          0.000000                       0.000000   \n25%    ...                         25.695000                       0.000000   \n50%    ...                        100.000000                       0.000000   \n75%    ...                        100.000000                      74.305000   \nmax    ...                        100.000000                     100.000000   \n\n       pct_Census_Mail_Returns_CEN_2010  pct_Vacant_CEN_2010  \\\ncount                       8796.000000          8796.000000   \nmean                          64.530206             9.158206   \nstd                           12.285239            10.989180   \nmin                            0.000000             0.000000   \n25%                           57.560000             2.450000   \n50%                           66.575000             4.280000   \n75%                           73.162500            12.185000   \nmax                          100.000000           100.000000   \n\n       pct_Deletes_CEN_2010  pct_Census_UAA_CEN_2010  \\\ncount           8796.000000              8796.000000   \nmean               1.019400                10.287950   \nstd                2.192295                10.560331   \nmin                0.000000                 0.000000   \n25%                0.000000                 2.490000   \n50%                0.000000                 8.090000   \n75%                1.400000                14.642500   \nmax              100.000000               100.000000   \n\n       pct_Mailback_Count_CEN_2010  pct_FRST_FRMS_CEN_2010  \\\ncount                  8796.000000             8796.000000   \nmean                     79.534482               62.923156   \nstd                      12.686610               12.960422   \nmin                       0.000000                0.000000   \n25%                      74.230000               54.667500   \n50%                      82.470000               64.460000   \n75%                      88.230000               72.712500   \nmax                     100.000000              100.000000   \n\n       pct_RPLCMNT_FRMS_CEN_2010  pct_BILQ_Mailout_count_CEN_2010  \ncount                 8796.00000                      8796.000000  \nmean                     1.60705                         3.117389  \nstd                      2.75654                        17.046932  \nmin                      0.00000                         0.000000  \n25%                      0.00000                         0.000000  \n50%                      0.00000                         0.000000  \n75%                      2.83000                         0.000000  \nmax                     19.57000                       100.000000  \n\n[8 rows x 546 columns]",
      "text/html": "<div>\n<style scoped>\n    .dataframe tbody tr th:only-of-type {\n        vertical-align: middle;\n    }\n\n    .dataframe tbody tr th {\n        vertical-align: top;\n    }\n\n    .dataframe thead th {\n        text-align: right;\n    }\n</style>\n<table border=\"1\" class=\"dataframe\">\n  <thead>\n    <tr style=\"text-align: right;\">\n      <th></th>\n      <th>Percentage</th>\n      <th>State</th>\n      <th>County</th>\n      <th>Tract Code</th>\n      <th>District ID</th>\n      <th>Leaid</th>\n      <th>GIDTR</th>\n      <th>State2</th>\n      <th>County2</th>\n      <th>Tract</th>\n      <th>...</th>\n      <th>pct_TEA_MailOutMailBack_CEN_2010</th>\n      <th>pct_TEA_Update_Leave_CEN_2010</th>\n      <th>pct_Census_Mail_Returns_CEN_2010</th>\n      <th>pct_Vacant_CEN_2010</th>\n      <th>pct_Deletes_CEN_2010</th>\n      <th>pct_Census_UAA_CEN_2010</th>\n      <th>pct_Mailback_Count_CEN_2010</th>\n      <th>pct_FRST_FRMS_CEN_2010</th>\n      <th>pct_RPLCMNT_FRMS_CEN_2010</th>\n      <th>pct_BILQ_Mailout_count_CEN_2010</th>\n    </tr>\n  </thead>\n  <tbody>\n    <tr>\n      <th>count</th>\n      <td>9001.000000</td>\n      <td>9001.000000</td>\n      <td>9001.000000</td>\n      <td>9001.000000</td>\n      <td>9001.000000</td>\n      <td>9.001000e+03</td>\n      <td>9.001000e+03</td>\n      <td>9001.000000</td>\n      <td>9001.000000</td>\n      <td>9001.000000</td>\n      <td>...</td>\n      <td>8796.000000</td>\n      <td>8796.000000</td>\n      <td>8796.000000</td>\n      <td>8796.000000</td>\n      <td>8796.000000</td>\n      <td>8796.000000</td>\n      <td>8796.000000</td>\n      <td>8796.000000</td>\n      <td>8796.00000</td>\n      <td>8796.000000</td>\n    </tr>\n    <tr>\n      <th>mean</th>\n      <td>81.056810</td>\n      <td>30.640373</td>\n      <td>93.609155</td>\n      <td>468938.654261</td>\n      <td>14366.964337</td>\n      <td>3.078404e+06</td>\n      <td>3.073445e+10</td>\n      <td>30.640373</td>\n      <td>93.609155</td>\n      <td>468938.654261</td>\n      <td>...</td>\n      <td>69.283738</td>\n      <td>30.716263</td>\n      <td>64.530206</td>\n      <td>9.158206</td>\n      <td>1.019400</td>\n      <td>10.287950</td>\n      <td>79.534482</td>\n      <td>62.923156</td>\n      <td>1.60705</td>\n      <td>3.117389</td>\n    </tr>\n    <tr>\n      <th>std</th>\n      <td>27.353850</td>\n      <td>11.430315</td>\n      <td>86.320207</td>\n      <td>427478.946665</td>\n      <td>14816.159123</td>\n      <td>1.146085e+06</td>\n      <td>1.144893e+10</td>\n      <td>11.430315</td>\n      <td>86.320207</td>\n      <td>427478.946665</td>\n      <td>...</td>\n      <td>41.564236</td>\n      <td>41.564237</td>\n      <td>12.285239</td>\n      <td>10.989180</td>\n      <td>2.192295</td>\n      <td>10.560331</td>\n      <td>12.686610</td>\n      <td>12.960422</td>\n      <td>2.75654</td>\n      <td>17.046932</td>\n    </tr>\n    <tr>\n      <th>min</th>\n      <td>0.013891</td>\n      <td>1.000000</td>\n      <td>1.000000</td>\n      <td>100.000000</td>\n      <td>1.000000</td>\n      <td>1.000010e+05</td>\n      <td>1.001020e+09</td>\n      <td>1.000000</td>\n      <td>1.000000</td>\n      <td>100.000000</td>\n      <td>...</td>\n      <td>0.000000</td>\n      <td>0.000000</td>\n      <td>0.000000</td>\n      <td>0.000000</td>\n      <td>0.000000</td>\n      <td>0.000000</td>\n      <td>0.000000</td>\n      <td>0.000000</td>\n      <td>0.00000</td>\n      <td>0.000000</td>\n    </tr>\n    <tr>\n      <th>25%</th>\n      <td>62.396330</td>\n      <td>21.000000</td>\n      <td>29.000000</td>\n      <td>21000.000000</td>\n      <td>4170.000000</td>\n      <td>2.104410e+06</td>\n      <td>2.116397e+10</td>\n      <td>21.000000</td>\n      <td>29.000000</td>\n      <td>21000.000000</td>\n      <td>...</td>\n      <td>25.695000</td>\n      <td>0.000000</td>\n      <td>57.560000</td>\n      <td>2.450000</td>\n      <td>0.000000</td>\n      <td>2.490000</td>\n      <td>74.230000</td>\n      <td>54.667500</td>\n      <td>0.00000</td>\n      <td>0.000000</td>\n    </tr>\n    <tr>\n      <th>50%</th>\n      <td>100.000000</td>\n      <td>30.000000</td>\n      <td>77.000000</td>\n      <td>411800.000000</td>\n      <td>10080.000000</td>\n      <td>3.028620e+06</td>\n      <td>3.011100e+10</td>\n      <td>30.000000</td>\n      <td>77.000000</td>\n      <td>411800.000000</td>\n      <td>...</td>\n      <td>100.000000</td>\n      <td>0.000000</td>\n      <td>66.575000</td>\n      <td>4.280000</td>\n      <td>0.000000</td>\n      <td>8.090000</td>\n      <td>82.470000</td>\n      <td>64.460000</td>\n      <td>0.00000</td>\n      <td>0.000000</td>\n    </tr>\n    <tr>\n      <th>75%</th>\n      <td>100.000000</td>\n      <td>39.000000</td>\n      <td>129.000000</td>\n      <td>950702.000000</td>\n      <td>21490.000000</td>\n      <td>3.905069e+06</td>\n      <td>3.916102e+10</td>\n      <td>39.000000</td>\n      <td>129.000000</td>\n      <td>950702.000000</td>\n      <td>...</td>\n      <td>100.000000</td>\n      <td>74.305000</td>\n      <td>73.162500</td>\n      <td>12.185000</td>\n      <td>1.400000</td>\n      <td>14.642500</td>\n      <td>88.230000</td>\n      <td>72.712500</td>\n      <td>2.83000</td>\n      <td>0.000000</td>\n    </tr>\n    <tr>\n      <th>max</th>\n      <td>100.000000</td>\n      <td>48.000000</td>\n      <td>510.000000</td>\n      <td>990200.000000</td>\n      <td>99998.000000</td>\n      <td>4.840710e+06</td>\n      <td>4.850795e+10</td>\n      <td>48.000000</td>\n      <td>510.000000</td>\n      <td>990200.000000</td>\n      <td>...</td>\n      <td>100.000000</td>\n      <td>100.000000</td>\n      <td>100.000000</td>\n      <td>100.000000</td>\n      <td>100.000000</td>\n      <td>100.000000</td>\n      <td>100.000000</td>\n      <td>100.000000</td>\n      <td>19.57000</td>\n      <td>100.000000</td>\n    </tr>\n  </tbody>\n</table>\n<p>8 rows × 546 columns</p>\n</div>"
     },
     "execution_count": 4,
     "metadata": {},
     "output_type": "execute_result"
    }
   ],
   "source": [
    "dfCensus.describe()"
   ],
   "metadata": {
    "collapsed": false
   }
  },
  {
   "cell_type": "code",
   "execution_count": 6,
   "outputs": [],
   "source": [
    "dfGrad = pd.read_csv('Graduation_Rates.csv')"
   ],
   "metadata": {
    "collapsed": false
   }
  },
  {
   "cell_type": "code",
   "execution_count": 7,
   "outputs": [
    {
     "data": {
      "text/plain": "              FIPST       leaid11  ALL_COHORT_1112  MAM_COHORT_1112  \\\ncount  11325.000000  1.132500e+04     11325.000000      4298.000000   \nmean      30.742340  3.086500e+06       319.178013         8.553746   \nstd       14.785372  1.479636e+06      1023.629439        29.290827   \nmin        1.000000  1.000050e+05         1.000000         1.000000   \n25%       19.000000  1.922470e+06        44.000000         1.000000   \n50%       31.000000  3.171550e+06       108.000000         2.000000   \n75%       42.000000  4.211450e+06       265.000000         6.000000   \nmax       59.000000  5.900197e+06     43098.000000       988.000000   \n\n       MAS_COHORT_1112  MBL_COHORT_1112  MHI_COHORT_1112  MTR_COHORT_1112  \\\ncount      5607.000000       7249.00000      8113.000000      4639.000000   \nmean         35.014803         84.91792        92.252681        11.187540   \nstd         214.712260        383.55894       564.542913        34.588597   \nmin           1.000000          1.00000         1.000000         1.000000   \n25%           1.000000          2.00000         3.000000         1.000000   \n50%           4.000000          9.00000         9.000000         3.000000   \n75%          14.000000         46.00000        36.000000         8.000000   \nmax       10882.000000      14134.00000     32047.000000      1229.000000   \n\n       MWH_COHORT_1112  CWD_COHORT_1112  ECD_COHORT_1112  LEP_COHORT_1112  \ncount     10988.000000     10817.000000     11051.000000      5080.000000  \nmean        177.457681        40.417029       146.127228        44.299016  \nstd         357.796139       124.508415       668.128290       254.074377  \nmin           1.000000         1.000000         1.000000         1.000000  \n25%          31.000000         6.000000        15.000000         2.000000  \n50%          80.000000        14.000000        37.000000         5.000000  \n75%         189.000000        35.000000        97.000000        18.000000  \nmax        9327.000000      5177.000000     38685.000000     12243.000000  ",
      "text/html": "<div>\n<style scoped>\n    .dataframe tbody tr th:only-of-type {\n        vertical-align: middle;\n    }\n\n    .dataframe tbody tr th {\n        vertical-align: top;\n    }\n\n    .dataframe thead th {\n        text-align: right;\n    }\n</style>\n<table border=\"1\" class=\"dataframe\">\n  <thead>\n    <tr style=\"text-align: right;\">\n      <th></th>\n      <th>FIPST</th>\n      <th>leaid11</th>\n      <th>ALL_COHORT_1112</th>\n      <th>MAM_COHORT_1112</th>\n      <th>MAS_COHORT_1112</th>\n      <th>MBL_COHORT_1112</th>\n      <th>MHI_COHORT_1112</th>\n      <th>MTR_COHORT_1112</th>\n      <th>MWH_COHORT_1112</th>\n      <th>CWD_COHORT_1112</th>\n      <th>ECD_COHORT_1112</th>\n      <th>LEP_COHORT_1112</th>\n    </tr>\n  </thead>\n  <tbody>\n    <tr>\n      <th>count</th>\n      <td>11325.000000</td>\n      <td>1.132500e+04</td>\n      <td>11325.000000</td>\n      <td>4298.000000</td>\n      <td>5607.000000</td>\n      <td>7249.00000</td>\n      <td>8113.000000</td>\n      <td>4639.000000</td>\n      <td>10988.000000</td>\n      <td>10817.000000</td>\n      <td>11051.000000</td>\n      <td>5080.000000</td>\n    </tr>\n    <tr>\n      <th>mean</th>\n      <td>30.742340</td>\n      <td>3.086500e+06</td>\n      <td>319.178013</td>\n      <td>8.553746</td>\n      <td>35.014803</td>\n      <td>84.91792</td>\n      <td>92.252681</td>\n      <td>11.187540</td>\n      <td>177.457681</td>\n      <td>40.417029</td>\n      <td>146.127228</td>\n      <td>44.299016</td>\n    </tr>\n    <tr>\n      <th>std</th>\n      <td>14.785372</td>\n      <td>1.479636e+06</td>\n      <td>1023.629439</td>\n      <td>29.290827</td>\n      <td>214.712260</td>\n      <td>383.55894</td>\n      <td>564.542913</td>\n      <td>34.588597</td>\n      <td>357.796139</td>\n      <td>124.508415</td>\n      <td>668.128290</td>\n      <td>254.074377</td>\n    </tr>\n    <tr>\n      <th>min</th>\n      <td>1.000000</td>\n      <td>1.000050e+05</td>\n      <td>1.000000</td>\n      <td>1.000000</td>\n      <td>1.000000</td>\n      <td>1.00000</td>\n      <td>1.000000</td>\n      <td>1.000000</td>\n      <td>1.000000</td>\n      <td>1.000000</td>\n      <td>1.000000</td>\n      <td>1.000000</td>\n    </tr>\n    <tr>\n      <th>25%</th>\n      <td>19.000000</td>\n      <td>1.922470e+06</td>\n      <td>44.000000</td>\n      <td>1.000000</td>\n      <td>1.000000</td>\n      <td>2.00000</td>\n      <td>3.000000</td>\n      <td>1.000000</td>\n      <td>31.000000</td>\n      <td>6.000000</td>\n      <td>15.000000</td>\n      <td>2.000000</td>\n    </tr>\n    <tr>\n      <th>50%</th>\n      <td>31.000000</td>\n      <td>3.171550e+06</td>\n      <td>108.000000</td>\n      <td>2.000000</td>\n      <td>4.000000</td>\n      <td>9.00000</td>\n      <td>9.000000</td>\n      <td>3.000000</td>\n      <td>80.000000</td>\n      <td>14.000000</td>\n      <td>37.000000</td>\n      <td>5.000000</td>\n    </tr>\n    <tr>\n      <th>75%</th>\n      <td>42.000000</td>\n      <td>4.211450e+06</td>\n      <td>265.000000</td>\n      <td>6.000000</td>\n      <td>14.000000</td>\n      <td>46.00000</td>\n      <td>36.000000</td>\n      <td>8.000000</td>\n      <td>189.000000</td>\n      <td>35.000000</td>\n      <td>97.000000</td>\n      <td>18.000000</td>\n    </tr>\n    <tr>\n      <th>max</th>\n      <td>59.000000</td>\n      <td>5.900197e+06</td>\n      <td>43098.000000</td>\n      <td>988.000000</td>\n      <td>10882.000000</td>\n      <td>14134.00000</td>\n      <td>32047.000000</td>\n      <td>1229.000000</td>\n      <td>9327.000000</td>\n      <td>5177.000000</td>\n      <td>38685.000000</td>\n      <td>12243.000000</td>\n    </tr>\n  </tbody>\n</table>\n</div>"
     },
     "execution_count": 7,
     "metadata": {},
     "output_type": "execute_result"
    }
   ],
   "source": [
    "dfGrad.describe()"
   ],
   "metadata": {
    "collapsed": false
   }
  },
  {
   "cell_type": "code",
   "execution_count": 11,
   "outputs": [
    {
     "ename": "ValueError",
     "evalue": "could not convert string to float: 'ALABAMA'",
     "output_type": "error",
     "traceback": [
      "\u001B[1;31m---------------------------------------------------------------------------\u001B[0m",
      "\u001B[1;31mValueError\u001B[0m                                Traceback (most recent call last)",
      "Cell \u001B[1;32mIn[11], line 3\u001B[0m\n\u001B[0;32m      1\u001B[0m \u001B[38;5;28;01mimport\u001B[39;00m \u001B[38;5;21;01mseaborn\u001B[39;00m\n\u001B[1;32m----> 3\u001B[0m \u001B[43mseaborn\u001B[49m\u001B[38;5;241;43m.\u001B[39;49m\u001B[43mheatmap\u001B[49m\u001B[43m(\u001B[49m\u001B[43mdfGrad\u001B[49m\u001B[43m,\u001B[49m\u001B[43m \u001B[49m\u001B[43mhue\u001B[49m\u001B[38;5;241;43m=\u001B[39;49m\u001B[38;5;124;43m\"\u001B[39;49m\u001B[38;5;124;43mSTNAM\u001B[39;49m\u001B[38;5;124;43m\"\u001B[39;49m\u001B[43m)\u001B[49m\n",
      "File \u001B[1;32m~\\AppData\\Local\\Programs\\Python\\Python310\\lib\\site-packages\\seaborn\\matrix.py:446\u001B[0m, in \u001B[0;36mheatmap\u001B[1;34m(data, vmin, vmax, cmap, center, robust, annot, fmt, annot_kws, linewidths, linecolor, cbar, cbar_kws, cbar_ax, square, xticklabels, yticklabels, mask, ax, **kwargs)\u001B[0m\n\u001B[0;32m    365\u001B[0m \u001B[38;5;250m\u001B[39m\u001B[38;5;124;03m\"\"\"Plot rectangular data as a color-encoded matrix.\u001B[39;00m\n\u001B[0;32m    366\u001B[0m \n\u001B[0;32m    367\u001B[0m \u001B[38;5;124;03mThis is an Axes-level function and will draw the heatmap into the\u001B[39;00m\n\u001B[1;32m   (...)\u001B[0m\n\u001B[0;32m    443\u001B[0m \n\u001B[0;32m    444\u001B[0m \u001B[38;5;124;03m\"\"\"\u001B[39;00m\n\u001B[0;32m    445\u001B[0m \u001B[38;5;66;03m# Initialize the plotter object\u001B[39;00m\n\u001B[1;32m--> 446\u001B[0m plotter \u001B[38;5;241m=\u001B[39m \u001B[43m_HeatMapper\u001B[49m\u001B[43m(\u001B[49m\u001B[43mdata\u001B[49m\u001B[43m,\u001B[49m\u001B[43m \u001B[49m\u001B[43mvmin\u001B[49m\u001B[43m,\u001B[49m\u001B[43m \u001B[49m\u001B[43mvmax\u001B[49m\u001B[43m,\u001B[49m\u001B[43m \u001B[49m\u001B[43mcmap\u001B[49m\u001B[43m,\u001B[49m\u001B[43m \u001B[49m\u001B[43mcenter\u001B[49m\u001B[43m,\u001B[49m\u001B[43m \u001B[49m\u001B[43mrobust\u001B[49m\u001B[43m,\u001B[49m\u001B[43m \u001B[49m\u001B[43mannot\u001B[49m\u001B[43m,\u001B[49m\u001B[43m \u001B[49m\u001B[43mfmt\u001B[49m\u001B[43m,\u001B[49m\n\u001B[0;32m    447\u001B[0m \u001B[43m                      \u001B[49m\u001B[43mannot_kws\u001B[49m\u001B[43m,\u001B[49m\u001B[43m \u001B[49m\u001B[43mcbar\u001B[49m\u001B[43m,\u001B[49m\u001B[43m \u001B[49m\u001B[43mcbar_kws\u001B[49m\u001B[43m,\u001B[49m\u001B[43m \u001B[49m\u001B[43mxticklabels\u001B[49m\u001B[43m,\u001B[49m\n\u001B[0;32m    448\u001B[0m \u001B[43m                      \u001B[49m\u001B[43myticklabels\u001B[49m\u001B[43m,\u001B[49m\u001B[43m \u001B[49m\u001B[43mmask\u001B[49m\u001B[43m)\u001B[49m\n\u001B[0;32m    450\u001B[0m \u001B[38;5;66;03m# Add the pcolormesh kwargs here\u001B[39;00m\n\u001B[0;32m    451\u001B[0m kwargs[\u001B[38;5;124m\"\u001B[39m\u001B[38;5;124mlinewidths\u001B[39m\u001B[38;5;124m\"\u001B[39m] \u001B[38;5;241m=\u001B[39m linewidths\n",
      "File \u001B[1;32m~\\AppData\\Local\\Programs\\Python\\Python310\\lib\\site-packages\\seaborn\\matrix.py:163\u001B[0m, in \u001B[0;36m_HeatMapper.__init__\u001B[1;34m(self, data, vmin, vmax, cmap, center, robust, annot, fmt, annot_kws, cbar, cbar_kws, xticklabels, yticklabels, mask)\u001B[0m\n\u001B[0;32m    160\u001B[0m \u001B[38;5;28mself\u001B[39m\u001B[38;5;241m.\u001B[39mylabel \u001B[38;5;241m=\u001B[39m ylabel \u001B[38;5;28;01mif\u001B[39;00m ylabel \u001B[38;5;129;01mis\u001B[39;00m \u001B[38;5;129;01mnot\u001B[39;00m \u001B[38;5;28;01mNone\u001B[39;00m \u001B[38;5;28;01melse\u001B[39;00m \u001B[38;5;124m\"\u001B[39m\u001B[38;5;124m\"\u001B[39m\n\u001B[0;32m    162\u001B[0m \u001B[38;5;66;03m# Determine good default values for the colormapping\u001B[39;00m\n\u001B[1;32m--> 163\u001B[0m \u001B[38;5;28;43mself\u001B[39;49m\u001B[38;5;241;43m.\u001B[39;49m\u001B[43m_determine_cmap_params\u001B[49m\u001B[43m(\u001B[49m\u001B[43mplot_data\u001B[49m\u001B[43m,\u001B[49m\u001B[43m \u001B[49m\u001B[43mvmin\u001B[49m\u001B[43m,\u001B[49m\u001B[43m \u001B[49m\u001B[43mvmax\u001B[49m\u001B[43m,\u001B[49m\n\u001B[0;32m    164\u001B[0m \u001B[43m                            \u001B[49m\u001B[43mcmap\u001B[49m\u001B[43m,\u001B[49m\u001B[43m \u001B[49m\u001B[43mcenter\u001B[49m\u001B[43m,\u001B[49m\u001B[43m \u001B[49m\u001B[43mrobust\u001B[49m\u001B[43m)\u001B[49m\n\u001B[0;32m    166\u001B[0m \u001B[38;5;66;03m# Sort out the annotations\u001B[39;00m\n\u001B[0;32m    167\u001B[0m \u001B[38;5;28;01mif\u001B[39;00m annot \u001B[38;5;129;01mis\u001B[39;00m \u001B[38;5;28;01mNone\u001B[39;00m \u001B[38;5;129;01mor\u001B[39;00m annot \u001B[38;5;129;01mis\u001B[39;00m \u001B[38;5;28;01mFalse\u001B[39;00m:\n",
      "File \u001B[1;32m~\\AppData\\Local\\Programs\\Python\\Python310\\lib\\site-packages\\seaborn\\matrix.py:197\u001B[0m, in \u001B[0;36m_HeatMapper._determine_cmap_params\u001B[1;34m(self, plot_data, vmin, vmax, cmap, center, robust)\u001B[0m\n\u001B[0;32m    194\u001B[0m \u001B[38;5;250m\u001B[39m\u001B[38;5;124;03m\"\"\"Use some heuristics to set good defaults for colorbar and range.\"\"\"\u001B[39;00m\n\u001B[0;32m    196\u001B[0m \u001B[38;5;66;03m# plot_data is a np.ma.array instance\u001B[39;00m\n\u001B[1;32m--> 197\u001B[0m calc_data \u001B[38;5;241m=\u001B[39m \u001B[43mplot_data\u001B[49m\u001B[38;5;241;43m.\u001B[39;49m\u001B[43mastype\u001B[49m\u001B[43m(\u001B[49m\u001B[38;5;28;43mfloat\u001B[39;49m\u001B[43m)\u001B[49m\u001B[38;5;241m.\u001B[39mfilled(np\u001B[38;5;241m.\u001B[39mnan)\n\u001B[0;32m    198\u001B[0m \u001B[38;5;28;01mif\u001B[39;00m vmin \u001B[38;5;129;01mis\u001B[39;00m \u001B[38;5;28;01mNone\u001B[39;00m:\n\u001B[0;32m    199\u001B[0m     \u001B[38;5;28;01mif\u001B[39;00m robust:\n",
      "\u001B[1;31mValueError\u001B[0m: could not convert string to float: 'ALABAMA'"
     ]
    }
   ],
   "source": [
    "import seaborn\n",
    "\n",
    "seaborn.barplot(dfGrad, y=(\"ALL_COHORT_1112\"))"
   ],
   "metadata": {
    "collapsed": false
   }
  }
 ],
 "metadata": {
  "kernelspec": {
   "display_name": "Python 3",
   "language": "python",
   "name": "python3"
  },
  "language_info": {
   "codemirror_mode": {
    "name": "ipython",
    "version": 2
   },
   "file_extension": ".py",
   "mimetype": "text/x-python",
   "name": "python",
   "nbconvert_exporter": "python",
   "pygments_lexer": "ipython2",
   "version": "2.7.6"
  }
 },
 "nbformat": 4,
 "nbformat_minor": 0
}
